{
 "cells": [
  {
   "cell_type": "markdown",
   "metadata": {},
   "source": [
    "# Probability"
   ]
  },
  {
   "cell_type": "markdown",
   "metadata": {},
   "source": [
    "## Hot Hands"
   ]
  },
  {
   "cell_type": "markdown",
   "metadata": {},
   "source": [
    "Basketball players who make several baskets in succession are described as having a hot hand. Fans and players have long believed in the hot hand phenomenon, which refutes the assumption that each shot is independent of the next. However, a 1985 [paper](https://www.cs.colorado.edu/~mozer/Teaching/syllabi/7782/readings/gilovich%20vallone%20tversky.pdf) by Gilovich, Vallone, and Tversky collected evidence that contradicted this belief and showed that successive shots are independent events. This paper started a great controversy that continues to this day, as you can see by Googling hot hand basketball.\n",
    "\n",
    "We do not expect to resolve this controversy today. However, in this lab we'll apply one approach to answering questions like this. The goals for this lab are to (1) think about the effects of independent and dependent events, (2) learn how to simulate shooting streaks in Python, and (3) to compare a simulation to actual data in order to determine if the hot hand phenomenon appears to be real."
   ]
  },
  {
   "cell_type": "code",
   "execution_count": 1,
   "metadata": {},
   "outputs": [],
   "source": [
    "# for Mac OS users only!\n",
    "# if you run into any SSL certification issues, \n",
    "# you may need to run the following command for a Mac OS installation.\n",
    "# $/Applications/Python 3.x/Install Certificates.command\n",
    "import os, ssl\n",
    "if (not os.environ.get('PYTHONHTTPSVERIFY', '') and\n",
    "    getattr(ssl, '_create_unverified_context', None)): \n",
    "    ssl._create_default_https_context = ssl._create_unverified_context"
   ]
  },
  {
   "cell_type": "markdown",
   "metadata": {},
   "source": [
    "## Getting started"
   ]
  },
  {
   "cell_type": "markdown",
   "metadata": {},
   "source": [
    "Our investigation will focus on the performance of one player: Kobe Bryant of the Los Angeles Lakers. His performance against the Orlando Magic in the 2009 NBA finals earned him the title Most Valuable Player and many spectators commented on how he appeared to show a hot hand. Let's load some data from those games and look at the first several rows."
   ]
  },
  {
   "cell_type": "code",
   "execution_count": 2,
   "metadata": {},
   "outputs": [
    {
     "data": {
      "text/html": [
       "<div>\n",
       "<style scoped>\n",
       "    .dataframe tbody tr th:only-of-type {\n",
       "        vertical-align: middle;\n",
       "    }\n",
       "\n",
       "    .dataframe tbody tr th {\n",
       "        vertical-align: top;\n",
       "    }\n",
       "\n",
       "    .dataframe thead th {\n",
       "        text-align: right;\n",
       "    }\n",
       "</style>\n",
       "<table border=\"1\" class=\"dataframe\">\n",
       "  <thead>\n",
       "    <tr style=\"text-align: right;\">\n",
       "      <th></th>\n",
       "      <th>vs</th>\n",
       "      <th>game</th>\n",
       "      <th>quarter</th>\n",
       "      <th>time</th>\n",
       "      <th>description</th>\n",
       "      <th>basket</th>\n",
       "    </tr>\n",
       "  </thead>\n",
       "  <tbody>\n",
       "    <tr>\n",
       "      <th>0</th>\n",
       "      <td>ORL</td>\n",
       "      <td>1</td>\n",
       "      <td>1</td>\n",
       "      <td>9:47</td>\n",
       "      <td>Kobe Bryant makes 4-foot two point shot</td>\n",
       "      <td>H</td>\n",
       "    </tr>\n",
       "    <tr>\n",
       "      <th>1</th>\n",
       "      <td>ORL</td>\n",
       "      <td>1</td>\n",
       "      <td>1</td>\n",
       "      <td>9:07</td>\n",
       "      <td>Kobe Bryant misses jumper</td>\n",
       "      <td>M</td>\n",
       "    </tr>\n",
       "    <tr>\n",
       "      <th>2</th>\n",
       "      <td>ORL</td>\n",
       "      <td>1</td>\n",
       "      <td>1</td>\n",
       "      <td>8:11</td>\n",
       "      <td>Kobe Bryant misses 7-foot jumper</td>\n",
       "      <td>M</td>\n",
       "    </tr>\n",
       "    <tr>\n",
       "      <th>3</th>\n",
       "      <td>ORL</td>\n",
       "      <td>1</td>\n",
       "      <td>1</td>\n",
       "      <td>7:41</td>\n",
       "      <td>Kobe Bryant makes 16-foot jumper (Derek Fisher...</td>\n",
       "      <td>H</td>\n",
       "    </tr>\n",
       "    <tr>\n",
       "      <th>4</th>\n",
       "      <td>ORL</td>\n",
       "      <td>1</td>\n",
       "      <td>1</td>\n",
       "      <td>7:03</td>\n",
       "      <td>Kobe Bryant makes driving layup</td>\n",
       "      <td>H</td>\n",
       "    </tr>\n",
       "  </tbody>\n",
       "</table>\n",
       "</div>"
      ],
      "text/plain": [
       "    vs  game quarter  time                                        description  \\\n",
       "0  ORL     1       1  9:47            Kobe Bryant makes 4-foot two point shot   \n",
       "1  ORL     1       1  9:07                          Kobe Bryant misses jumper   \n",
       "2  ORL     1       1  8:11                   Kobe Bryant misses 7-foot jumper   \n",
       "3  ORL     1       1  7:41  Kobe Bryant makes 16-foot jumper (Derek Fisher...   \n",
       "4  ORL     1       1  7:03                    Kobe Bryant makes driving layup   \n",
       "\n",
       "  basket  \n",
       "0      H  \n",
       "1      M  \n",
       "2      M  \n",
       "3      H  \n",
       "4      H  "
      ]
     },
     "execution_count": 2,
     "metadata": {},
     "output_type": "execute_result"
    }
   ],
   "source": [
    "import pandas as pd\n",
    "\n",
    "kobe = pd.read_csv('https://www.openintro.org/stat/data/kobe.csv')\n",
    "kobe.head()"
   ]
  },
  {
   "cell_type": "markdown",
   "metadata": {},
   "source": [
    "_**Remark.** Observe, as in the previous lab, that the data does not immediately assume, right from reading the .csv file, a form which pandas recognizes as categorical._"
   ]
  },
  {
   "cell_type": "code",
   "execution_count": 3,
   "metadata": {},
   "outputs": [
    {
     "data": {
      "text/plain": [
       "vs             object\n",
       "game            int64\n",
       "quarter        object\n",
       "time           object\n",
       "description    object\n",
       "basket         object\n",
       "dtype: object"
      ]
     },
     "execution_count": 3,
     "metadata": {},
     "output_type": "execute_result"
    }
   ],
   "source": [
    "kobe.dtypes"
   ]
  },
  {
   "cell_type": "markdown",
   "metadata": {},
   "source": [
    "_Some of the `object`-dtype columns in our dataframe represent values that would be more suitable to work with as categorical data (since, in fact, they can only conceivably assume one of a limited set of values.)_\n",
    "\n",
    "_[Adding a column to a dataframe is relatively fast](https://pandas.pydata.org/docs/user_guide/10min.html#concat), so we'll take the liberty of doing that to illustrate what we're after:_"
   ]
  },
  {
   "cell_type": "code",
   "execution_count": 4,
   "metadata": {},
   "outputs": [],
   "source": [
    "# Make a column for categorical 'vs'\n",
    "kobe['vs_cat'] = kobe['vs'].astype('category')\n",
    "\n",
    "# >>> kobe['vs_cat']\n",
    "# [...]\n",
    "# Name: vs_cat, Length: 133, dtype: category\n",
    "# Categories (1, object): [ORL]\n",
    "\n",
    "# Make a column for categorical 'basket'\n",
    "kobe['basket_cat'] = kobe['basket'].astype('category')\n",
    "\n",
    "# >>> kobe['basket_cat']\n",
    "# [...]\n",
    "# Name: basket_cat, Length: 133, dtype: category\n",
    "# Categories (2, object): [H, M]"
   ]
  },
  {
   "cell_type": "markdown",
   "metadata": {},
   "source": [
    "_Meanwhile, the `description` column appears to contain natural-language descriptions for each shot taken, so we might just get a new value for every row. We won't bother making a categorical version for this right now. And the `quarter`, `time` columns have to do with the passage of time (periods of time or minutes / seconds), so shouldn't be dealt with as categorical data._"
   ]
  },
  {
   "cell_type": "markdown",
   "metadata": {},
   "source": [
    "In this data frame, every row records a shot taken by Kobe Bryant. If he hit the shot (made a basket), a hit, `H`, is recorded in the column named basket, otherwise a miss, `M`, is recorded.\n",
    "\n",
    "Just looking at the string of hits and misses, it can be difficult to gauge whether or not it seems like Kobe was shooting with a hot hand. One way we can approach this is by considering the belief that hot hand shooters tend to go on shooting streaks. For this lab, we define the length of a shooting streak to be the ***number of consecutive baskets made until a miss occurs***.\n",
    "\n",
    "For example, in Game 1 Kobe had the following sequence of hits and misses from his nine shot attempts in the first quarter:\n",
    "\n",
    "##### `H M | M | H H M | M | M | M`\n",
    "\n",
    "To verify this use the following command:"
   ]
  },
  {
   "cell_type": "code",
   "execution_count": 5,
   "metadata": {},
   "outputs": [
    {
     "data": {
      "text/plain": [
       "0    H\n",
       "1    M\n",
       "2    M\n",
       "3    H\n",
       "4    H\n",
       "5    M\n",
       "6    M\n",
       "7    M\n",
       "8    M\n",
       "Name: basket, dtype: object"
      ]
     },
     "execution_count": 5,
     "metadata": {},
     "output_type": "execute_result"
    }
   ],
   "source": [
    "kobe['basket'][0:9]"
   ]
  },
  {
   "cell_type": "markdown",
   "metadata": {},
   "source": [
    "Within the nine shot attempts, there are six streaks, which are separated by a \"|\" above. Their lengths are one, zero, two, zero, zero, zero (in order of occurrence)."
   ]
  },
  {
   "cell_type": "markdown",
   "metadata": {},
   "source": [
    "<div class = 'exercise'>\n",
    "<h4>Exercise 1</h4>\n",
    "What does a streak length of 1 mean, i.e. how many hits and misses are in a streak of 1? What about a streak length of 0?\n",
    "</div>"
   ]
  },
  {
   "cell_type": "markdown",
   "metadata": {},
   "source": [
    "_A streak length of 1 indicates a single hit ('H') following a miss (... 'M'), then followed by a miss concluding the streak:_\n",
    "\n",
    "##### `... M | H M | ...`\n",
    "\n",
    "_Meanwhile, a streak length of 0 indicates zero hits - a solitary miss ('M') directly preceded by a miss ('M'):_\n",
    "\n",
    "##### `... M | M | ...`\n",
    "\n",
    "_(If the 'M' in the middle were to have been preceded directly by an 'H' instead, then it would belong to a streak of length one or more.)_"
   ]
  },
  {
   "cell_type": "markdown",
   "metadata": {},
   "source": [
    "The custom function `calc_streak()` can be used to calculate the lengths of all shooting streaks."
   ]
  },
  {
   "cell_type": "code",
   "execution_count": 6,
   "metadata": {},
   "outputs": [
    {
     "name": "stdout",
     "output_type": "stream",
     "text": [
      "[1, 0, 2, 0, 0, 0, 3, 2, 0, 3, 0, 1, 3, 0, 0, 0, 0, 0, 1, 1, 0, 4, 1, 0, 1, 0, 1, 0, 1, 2, 0, 1, 2, 1, 0, 0, 1, 0, 0, 0, 1, 1, 0, 1, 0, 2, 0, 0, 0, 3, 0, 1, 0, 1, 2, 1, 0, 1, 0, 0, 1, 3, 3, 1, 1, 0, 0, 0, 0, 0, 1, 1, 0, 0, 0, 1]\n"
     ]
    }
   ],
   "source": [
    "def calc_streak(x):\n",
    "    all_shoots = list(x)\n",
    "    streak, count = [], 0\n",
    "    \n",
    "    for shoot in all_shoots:\n",
    "        if shoot == 'H':\n",
    "            count += 1\n",
    "        elif shoot == 'M':\n",
    "            streak.append(count)\n",
    "            count = 0\n",
    "    \n",
    "    # If the last shoot is a hit, make sure to append the last count to the streak list as well.\n",
    "    if all_shoots[-1] == 'H':  \n",
    "        streak.append(count)\n",
    "        \n",
    "    return streak  \n",
    "    \n",
    "kobe_streak = calc_streak(kobe['basket'])\n",
    "print(kobe_streak)"
   ]
  },
  {
   "cell_type": "markdown",
   "metadata": {},
   "source": [
    "We can look at the distribution of the lengths of all shooting streaks  with a barplot."
   ]
  },
  {
   "cell_type": "code",
   "execution_count": 7,
   "metadata": {},
   "outputs": [
    {
     "data": {
      "image/png": "[encoded data removed]",
      "text/plain": [
       "<Figure size 720x360 with 1 Axes>"
      ]
     },
     "metadata": {
      "image/png": {
       "height": 315,
       "width": 592
      }
     },
     "output_type": "display_data"
    }
   ],
   "source": [
    "import matplotlib.pyplot as plt\n",
    "%matplotlib inline \n",
    "%config InlineBackend.figure_format = 'retina'\n",
    "plt.style.use('ggplot')\n",
    "plt.rcParams['figure.figsize'] = (10,5)\n",
    "\n",
    "kobe_streak_counts = pd.Series(kobe_streak).value_counts().sort_index()\n",
    "\n",
    "kobe_streak_counts.plot(kind = 'bar', color = 'crimson')\n",
    "plt.xlabel('Length of Shooting Streaks')\n",
    "plt.show(); "
   ]
  },
  {
   "cell_type": "markdown",
   "metadata": {},
   "source": [
    "Note that instead of making a histogram, we chose to make a bar plot. A bar plot is preferable here since our variable is discrete – counts – instead of continuous."
   ]
  },
  {
   "cell_type": "markdown",
   "metadata": {},
   "source": [
    "<div class = 'exercise'>\n",
    "<h4>Exercise 2</h4>\n",
    "Describe the distribution of Kobe's streak lengths from the 2009 NBA finals. What was his typical streak length? How long was his longest streak of baskets?\n",
    "</div>"
   ]
  },
  {
   "cell_type": "markdown",
   "metadata": {},
   "source": [
    "_This is a unimodal distribution with a right tail, i.e. a distribution that is right skewed. The typical streak length was zero, while the longest streak of baskets observed was four._"
   ]
  },
  {
   "cell_type": "markdown",
   "metadata": {},
   "source": [
    "## Compared to What?"
   ]
  },
  {
   "cell_type": "markdown",
   "metadata": {},
   "source": [
    "We've shown that Kobe had some long shooting streaks, but are they long enough to support the belief that he had hot hands? What can we compare them to?\n",
    "\n",
    "To answer these questions, let's return to the idea of *independence*. Two processes are independent if the outcome of one process doesn't effect the outcome of the second. If each shot that a player takes is an independent process, having made or missed your first shot will not affect the probability that you will make or miss your second shot.\n",
    "\n",
    "A shooter with a hot hand will have shots that are *not* independent of one another. Specifically, if the shooter makes his first shot, the hot hand model says he will have a *higher* probability of making his second shot.\n",
    "\n",
    "Let's suppose for a moment that the hot hand model is valid for Kobe. During his career, the percentage of time Kobe makes a basket (i.e. his shooting percentage) is about 45%, or in probability notation,\n",
    "#### `P(shot 1 = H) = 0.45`\n",
    "If he makes the first shot and has a hot hand (not independent shots), then the probability that he makes his second shot would go up to, let's say, 60%,\n",
    "#### `P(shot 2 = H|shot 1 = H) = 0.60`\n",
    "As a result of these increased probabilites, you'd expect Kobe to have longer streaks. Compare this to the skeptical perspective where Kobe does *not* have a hot hand (where each shot is independent of the next). If he hit his first shot, the probability that he makes the second is still 0.45.\n",
    "#### `P(shot 2 = H|shot 1 = H) = 0.45`\n",
    "In other words, making the first shot did nothing to effect the probability that he'd make his second shot. If Kobe's shots are independent, then he'd have the same probability of hitting every shot regardless of his past shots: 45%.\n",
    "\n",
    "Now that we've phrased the situation in terms of independent shots, let's return to the question: how do we tell if Kobe's shooting streaks are long enough to indicate that he has hot hands? We can compare his streak lengths to someone without hot hands: an independent shooter."
   ]
  },
  {
   "cell_type": "markdown",
   "metadata": {},
   "source": [
    "## Simulations in Python"
   ]
  },
  {
   "cell_type": "markdown",
   "metadata": {},
   "source": [
    "While we don't have any data from a shooter we know to have independent shots, that sort of data is very easy to simulate in Python. In a simulation, you set the ground rules of a random process and then the computer uses random numbers to generate an outcome that adheres to those rules. As a simple example, you can simulate flipping a fair coin with the following:"
   ]
  },
  {
   "cell_type": "code",
   "execution_count": 8,
   "metadata": {},
   "outputs": [
    {
     "name": "stdout",
     "output_type": "stream",
     "text": [
      "tails\n"
     ]
    }
   ],
   "source": [
    "import numpy as np\n",
    "\n",
    "outcomes = np.array(['heads', 'tails'])\n",
    "print(np.random.choice(outcomes))"
   ]
  },
  {
   "cell_type": "markdown",
   "metadata": {},
   "source": [
    "The vector `outcomes` can be thought of as a hat with two slips of paper in it: one slip says `heads` and the other says `tails`. The function `random.choice()` draws one slip from the hat and tells us if it was a head or a tail.\n",
    "\n",
    "Run the second command listed above several times. Just like when flipping a coin, sometimes you'll get a heads, sometimes you'll get a tails, but in the long run, you'd expect to get roughly equal numbers of each.\n",
    "\n",
    "If you wanted to simulate flipping a fair coin 100 times, you could either run the function 100 times or, more simply, adjust the `size` argument, which governs how many samples to draw (the `replace = True` argument indicates we put the slip of paper back in the hat before drawing again). Save the resulting array of heads and tails in a new object called sim_fair_coin."
   ]
  },
  {
   "cell_type": "code",
   "execution_count": 9,
   "metadata": {},
   "outputs": [],
   "source": [
    "# random selection from 'outcomes', *with replacement* i.e. 'replace=True'\n",
    "sim_fair_coin = np.random.choice(outcomes, size = 100, replace = True)"
   ]
  },
  {
   "cell_type": "markdown",
   "metadata": {},
   "source": [
    "To view the results of this simulation, use `unique()` to count up the number of heads and tails:"
   ]
  },
  {
   "cell_type": "code",
   "execution_count": 10,
   "metadata": {},
   "outputs": [
    {
     "name": "stdout",
     "output_type": "stream",
     "text": [
      "[['heads' '50']\n",
      " ['tails' '50']]\n"
     ]
    }
   ],
   "source": [
    "unique, counts = np.unique(sim_fair_coin, return_counts = True)\n",
    "print(np.asarray((unique, counts)).T)"
   ]
  },
  {
   "cell_type": "markdown",
   "metadata": {},
   "source": [
    "Since there are only two elements in `outcomes`, the probability that we \"flip\" a coin and it lands heads is 0.5. Say we're trying to simulate an unfair coin that we know only lands heads 20% of the time. We can adjust for this by adding an argument called `p`, which provides the probabilities associated with each entry in the array."
   ]
  },
  {
   "cell_type": "code",
   "execution_count": 11,
   "metadata": {},
   "outputs": [
    {
     "name": "stdout",
     "output_type": "stream",
     "text": [
      "[['heads' '20']\n",
      " ['tails' '80']]\n"
     ]
    }
   ],
   "source": [
    "sim_unfair_coin = np.random.choice(outcomes, size = 100, replace = True, p = [0.2, 0.8])\n",
    "unique, counts = np.unique(sim_unfair_coin, return_counts = True)\n",
    "print(np.asarray((unique, counts)).T)"
   ]
  },
  {
   "cell_type": "markdown",
   "metadata": {},
   "source": [
    "`p = [0.2, 0.8]` indicates that for the two elements in the outcomes array, we want to select the first one, `heads` with probability 0.2 and the second one, `tails` with probability 0.8. Another way of thinking about this is to think of the outcome space as a bag of 10 chips, where 2 chips are labeled \"head\" and 8 chips \"tail\". Therefore at each draw, the probability of drawing a chip that says \"head\" is 20%, and \"tail\" is 80%."
   ]
  },
  {
   "cell_type": "markdown",
   "metadata": {},
   "source": [
    "<div class = 'exercise'>\n",
    "<h4>Exercise 3</h4>\n",
    "In your simulation of flipping the unfair coin 100 times, how many flips came up heads?\n",
    "</div>"
   ]
  },
  {
   "cell_type": "markdown",
   "metadata": {},
   "source": [
    "_Ran cell [25] above, to get a fresh set of results. In my simulation of flipping the unfair coin 100 times, only 23 flips out of those came up 'heads'._"
   ]
  },
  {
   "cell_type": "markdown",
   "metadata": {},
   "source": [
    "In a sense, we've shrunken the size of the slip of paper that says \"heads\", making it less likely to be drawn and we've increased the size of the slip of paper saying \"tails\", making it more likely to be drawn. When we simulated the fair coin, both slips of paper were the same size. This happens by default if you don't provide a `p` argument; all elements in the `outcomes` array have an equal probability of being drawn."
   ]
  },
  {
   "cell_type": "markdown",
   "metadata": {},
   "source": [
    "## Simulating the Independent Shooter"
   ]
  },
  {
   "cell_type": "markdown",
   "metadata": {},
   "source": [
    "Simulating a basketball player who has independent shots uses the same mechanism that we use to simulate a coin flip. To make a valid comparison between Kobe and our simulated independent shooter, we need to align both their shooting percentage and the number of attempted shots."
   ]
  },
  {
   "cell_type": "code",
   "execution_count": 12,
   "metadata": {},
   "outputs": [],
   "source": [
    "outcomes = np.array(['H', 'M'])\n",
    "sim_basket = np.random.choice(outcomes, size = 133, replace = True, p = [0.45, 0.55])"
   ]
  },
  {
   "cell_type": "markdown",
   "metadata": {},
   "source": [
    "With the results of the simulation saved as `sim_basket`, we have the data necessary to compare Kobe to our independent shooter. We can look at Kobe's data alongside our simulated data."
   ]
  },
  {
   "cell_type": "code",
   "execution_count": 13,
   "metadata": {},
   "outputs": [
    {
     "name": "stdout",
     "output_type": "stream",
     "text": [
      "['H' 'M' 'M' 'H' 'H' 'M' 'M' 'M' 'M' 'H' 'H' 'H' 'M' 'H' 'H' 'M' 'M' 'H'\n",
      " 'H' 'H' 'M' 'M' 'H' 'M' 'H' 'H' 'H' 'M' 'M' 'M' 'M' 'M' 'M' 'H' 'M' 'H'\n",
      " 'M' 'M' 'H' 'H' 'H' 'H' 'M' 'H' 'M' 'M' 'H' 'M' 'M' 'H' 'M' 'M' 'H' 'M'\n",
      " 'H' 'H' 'M' 'M' 'H' 'M' 'H' 'H' 'M' 'H' 'M' 'M' 'M' 'H' 'M' 'M' 'M' 'M'\n",
      " 'H' 'M' 'H' 'M' 'M' 'H' 'M' 'M' 'H' 'H' 'M' 'M' 'M' 'M' 'H' 'H' 'H' 'M'\n",
      " 'M' 'H' 'M' 'M' 'H' 'M' 'H' 'H' 'M' 'H' 'M' 'M' 'H' 'M' 'M' 'M' 'H' 'M'\n",
      " 'H' 'H' 'H' 'M' 'H' 'H' 'H' 'M' 'H' 'M' 'H' 'M' 'M' 'M' 'M' 'M' 'M' 'H'\n",
      " 'M' 'H' 'M' 'M' 'M' 'M' 'H']\n"
     ]
    }
   ],
   "source": [
    "print(np.array(kobe['basket']))"
   ]
  },
  {
   "cell_type": "code",
   "execution_count": 14,
   "metadata": {},
   "outputs": [
    {
     "name": "stdout",
     "output_type": "stream",
     "text": [
      "['H' 'M' 'H' 'M' 'M' 'M' 'M' 'M' 'H' 'H' 'H' 'M' 'M' 'M' 'M' 'H' 'M' 'M'\n",
      " 'H' 'H' 'H' 'H' 'M' 'M' 'M' 'H' 'M' 'M' 'H' 'M' 'H' 'H' 'M' 'M' 'H' 'M'\n",
      " 'H' 'M' 'H' 'H' 'M' 'M' 'M' 'M' 'H' 'H' 'H' 'H' 'H' 'M' 'H' 'M' 'M' 'H'\n",
      " 'M' 'H' 'M' 'H' 'H' 'H' 'H' 'H' 'H' 'M' 'M' 'M' 'M' 'M' 'M' 'H' 'M' 'M'\n",
      " 'H' 'M' 'M' 'H' 'H' 'H' 'H' 'M' 'M' 'M' 'M' 'H' 'H' 'M' 'M' 'M' 'M' 'M'\n",
      " 'H' 'H' 'M' 'M' 'M' 'H' 'M' 'H' 'M' 'M' 'M' 'H' 'M' 'H' 'H' 'M' 'M' 'H'\n",
      " 'M' 'M' 'M' 'H' 'M' 'H' 'H' 'H' 'M' 'M' 'M' 'H' 'M' 'H' 'M' 'H' 'H' 'M'\n",
      " 'H' 'M' 'M' 'H' 'M' 'M' 'M']\n"
     ]
    }
   ],
   "source": [
    "print(sim_basket)  # Notice that every time you rerun the simulation above, the results of sim_basket changes."
   ]
  },
  {
   "cell_type": "markdown",
   "metadata": {},
   "source": [
    "Both data sets represent the results of 133 shot attempts, each with the same shooting percentage of 45%. We know that our simulated data is from a shooter that has independent shots. That is, we know the simulated shooter does not have a hot hand."
   ]
  },
  {
   "cell_type": "markdown",
   "metadata": {},
   "source": [
    "---\n",
    "## On Your Own\n",
    "### Comparing Kobe Bryant to the Independent Shooter\n",
    "\n",
    "Using `calc_streak()`, compute the streak lengths of `sim_basket`.\n",
    "\n",
    "<ol>\n",
    "  <li>Describe the distribution of streak lengths. What is the typical streak length for this simulated independent shooter with a 45% shooting percentage? How long is the player's longest streak of baskets in 133 shots?</li><br>\n",
    "  <li>If you were to run the simulation of the independent shooter a second time, how would you expect its streak distribution to compare to the distribution from the question above? Exactly the same? Somewhat similar? Totally different? Explain your reasoning.</li><br>\n",
    "      <li>How does Kobe Bryant's distribution of streak lengths compare to the distribution of streak lengths for the simulated shooter? Using this comparison, do you have evidence that the hot hand model fits Kobe's shooting patterns? Explain.</li>\n",
    "</ol>"
   ]
  },
  {
   "cell_type": "markdown",
   "metadata": {},
   "source": [
    "_Using `calc_streak()`, compute the streak lengths of `sim_basket`._"
   ]
  },
  {
   "cell_type": "code",
   "execution_count": 15,
   "metadata": {},
   "outputs": [
    {
     "name": "stdout",
     "output_type": "stream",
     "text": [
      "[1, 1, 0, 0, 0, 0, 3, 0, 0, 0, 1, 0, 4, 0, 0, 1, 0, 1, 2, 0, 1, 1, 2, 0, 0, 0, 5, 1, 0, 1, 1, 6, 0, 0, 0, 0, 0, 1, 0, 1, 0, 4, 0, 0, 0, 2, 0, 0, 0, 0, 2, 0, 0, 1, 1, 0, 0, 1, 2, 0, 1, 0, 0, 1, 3, 0, 0, 1, 1, 2, 1, 0, 1, 0, 0]\n"
     ]
    }
   ],
   "source": [
    "# 'sim_basket' is already a list: no need to typecast\n",
    "sim_streak = calc_streak(sim_basket)\n",
    "print(sim_streak)"
   ]
  },
  {
   "cell_type": "markdown",
   "metadata": {},
   "source": [
    "_1. Describe the distribution of streak lengths. What is the typical streak length for this simulated independent shooter with a 45% shooting percentage? How long is the player's longest streak of baskets in 133 shots?_"
   ]
  },
  {
   "cell_type": "code",
   "execution_count": 16,
   "metadata": {},
   "outputs": [
    {
     "name": "stdout",
     "output_type": "stream",
     "text": [
      "0    42\n",
      "1    21\n",
      "2     6\n",
      "3     2\n",
      "4     2\n",
      "5     1\n",
      "6     1\n",
      "dtype: int64\n"
     ]
    }
   ],
   "source": [
    "# turn into a pandas Series object\n",
    "sim_streak_counts = pd.Series(sim_streak\n",
    "                              # count up num. of streaks observed, per streak length\n",
    "                             ).value_counts(\n",
    "                              # sort Series by index labels\n",
    "                             ).sort_index()\n",
    "                    \n",
    "print(sim_streak_counts)\n",
    "\n",
    "# For this simulated independent shooter & during this simulation round,\n",
    "# the typical streak length was 0. The longest streak observed was 8 baskets (!)"
   ]
  },
  {
   "cell_type": "code",
   "execution_count": 17,
   "metadata": {},
   "outputs": [
    {
     "data": {
      "image/png": "[encoded data removed]",
      "text/plain": [
       "<Figure size 720x360 with 1 Axes>"
      ]
     },
     "metadata": {
      "image/png": {
       "height": 315,
       "width": 592
      }
     },
     "output_type": "display_data"
    }
   ],
   "source": [
    "sim_streak_counts.plot(kind='bar', color='purple')\n",
    "plt.xlabel(\"Length of simulated player's shooting streaks\")\n",
    "plt.show();"
   ]
  },
  {
   "cell_type": "markdown",
   "metadata": {},
   "source": [
    "_2. If you were to run the simulation of the independent shooter a second time, how would you expect its streak distribution to compare to the distribution from the question above? Exactly the same? Somewhat similar? Totally different? Explain your reasoning._"
   ]
  },
  {
   "cell_type": "markdown",
   "metadata": {},
   "source": [
    "_If I were to run the simulation a second time, i.e. get a new `sim_basket`, then derive `sim_streak` from that, analyze & plot the results in a bar chart, then the streak distribution should be similar. It will most likely not be the same, since getting the exact sequence of H's and M's, in the order previously seen, would be highly unlikely. As a consequence, the streak lengths will change from what they were in the last simulation._\n",
    "\n",
    "_Also, because the highest streak length observed, of eight, had only very few observations, then this streak length will very likely not be present in the next simulation (possibly to be replaced by a shorter, or a longer, streak length instead.)_"
   ]
  },
  {
   "cell_type": "markdown",
   "metadata": {},
   "source": [
    "_3. How does Kobe Bryant's distribution of streak lengths compare to the distribution of streak lengths for the simulated shooter? Using this comparison, do you have evidence that the hot hand model fits Kobe's shooting patterns? Explain._"
   ]
  },
  {
   "cell_type": "markdown",
   "metadata": {},
   "source": [
    "#### Take 1.\n",
    "\n",
    "The idea of the following cell is to run many simulations of what a \"non-streaky\" basketball player (for whom the probability of landing every shot is totally independent of having landed any prior shot(s).) Having done so, we can then calculate for each simulation the list of streaks that resulted."
   ]
  },
  {
   "cell_type": "code",
   "execution_count": 18,
   "metadata": {},
   "outputs": [],
   "source": [
    "# Make a callable method to get a random simulation of 133 shots being made\n",
    "# by a 'non-streaky' simulated basketball player\n",
    "def get_sim_basket():\n",
    "    outcomes = ['H', 'M']\n",
    "    sim_result = np.random.choice(\n",
    "        outcomes, size = 133, replace = True, p = [0.45, 0.55])\n",
    "    return sim_result\n",
    "\n",
    "# Run many simulations, e.g. n = 5000\n",
    "sims_5000 = [get_sim_basket() for _ in range(5000)]\n",
    "\n",
    "# Get streak lists for ea. simulation\n",
    "sim_streaks_5000 = [calc_streak(sim) for sim in sims_5000]"
   ]
  },
  {
   "cell_type": "markdown",
   "metadata": {},
   "source": [
    "Now, out of 5000 simulations, take the mean & standard deviation of all streak lengths:\n",
    "\n",
    "* _take each resulting list of streak lengths_\n",
    "* _build a dataframe consisting of_ one column, _for streak length, and having a_ multi-index _made out of simulation number & streak number_\n",
    "* _then just compute summary statistics based upon that series (single column.)_"
   ]
  },
  {
   "cell_type": "code",
   "execution_count": 19,
   "metadata": {},
   "outputs": [
    {
     "data": {
      "text/plain": [
       "sim_streaks_0     0     8.0\n",
       "                  1     0.0\n",
       "                  2     4.0\n",
       "                  3     0.0\n",
       "                  4     0.0\n",
       "                       ... \n",
       "sim_streaks_4999  67    1.0\n",
       "                  68    0.0\n",
       "                  69    0.0\n",
       "                  70    0.0\n",
       "                  71    1.0\n",
       "Length: 368550, dtype: float64"
      ]
     },
     "execution_count": 19,
     "metadata": {},
     "output_type": "execute_result"
    }
   ],
   "source": [
    "# To go with this approach, *don't* do value_counts to sum \n",
    "# up num. of streaks by streak length, within each streak-list\n",
    "\n",
    "# Try it this way:\n",
    "sim_streakses_5000 = [\n",
    "    pd.Series(streaks,\n",
    "              name='sim_streaks_'+str(j))\n",
    "    for j, streaks in enumerate(sim_streaks_5000)]\n",
    "\n",
    "# e.g.\n",
    "# print(sim_streakses_5000[3])\n",
    "\n",
    "# What does the data frame made from this\n",
    "# list-of-streaks look like?\n",
    "df_streaks = pd.DataFrame(sim_streakses_5000)\n",
    "# 'df_streaks' is now a dataframe having one row per simulation,\n",
    "# and listing out in up to 91 columns the streak length for each\n",
    "# observed streak (with 'Nan' values after the last streak to take place.)\n",
    "\n",
    "# get just one column, multiindexed\n",
    "df_all_streaks = df_streaks.stack()\n",
    "df_all_streaks"
   ]
  },
  {
   "cell_type": "code",
   "execution_count": 20,
   "metadata": {},
   "outputs": [
    {
     "name": "stdout",
     "output_type": "stream",
     "text": [
      "368550\n",
      "368550\n"
     ]
    },
    {
     "data": {
      "text/plain": [
       "True"
      ]
     },
     "execution_count": 20,
     "metadata": {},
     "output_type": "execute_result"
    }
   ],
   "source": [
    "# As a sanity check, the length of 'df_all_streaks'\n",
    "# should equal the sum of all series lengths in 'sim_streakses_5000'\n",
    "length1 = sum(len(series) for series in sim_streakses_5000)\n",
    "print(length1) \n",
    "\n",
    "length2 = len(df_all_streaks)\n",
    "print(length2) \n",
    "\n",
    "length1 == length2"
   ]
  },
  {
   "cell_type": "code",
   "execution_count": 21,
   "metadata": {},
   "outputs": [
    {
     "data": {
      "text/plain": [
       "count    368550.000000\n",
       "mean          0.810506\n",
       "std           1.209436\n",
       "min           0.000000\n",
       "25%           0.000000\n",
       "50%           0.000000\n",
       "75%           1.000000\n",
       "max          17.000000\n",
       "dtype: float64"
      ]
     },
     "execution_count": 21,
     "metadata": {},
     "output_type": "execute_result"
    }
   ],
   "source": [
    "# Now, summarize 'df_all_streaks to'\n",
    "# 1. get mean & standard deviation\n",
    "# 2. compare vs. 'pd.Series(kobe_streak)' \n",
    "#    (not interested in the value_counts based on this)\n",
    "df_all_streaks.describe()"
   ]
  },
  {
   "cell_type": "code",
   "execution_count": 22,
   "metadata": {},
   "outputs": [
    {
     "data": {
      "text/plain": [
       "count    76.000000\n",
       "mean      0.763158\n",
       "std       0.991543\n",
       "min       0.000000\n",
       "25%       0.000000\n",
       "50%       0.000000\n",
       "75%       1.000000\n",
       "max       4.000000\n",
       "dtype: float64"
      ]
     },
     "execution_count": 22,
     "metadata": {},
     "output_type": "execute_result"
    }
   ],
   "source": [
    "kobe_streaks = pd.Series(kobe_streak)\n",
    "kobe_streaks.describe()"
   ]
  },
  {
   "cell_type": "markdown",
   "metadata": {},
   "source": [
    "The mean streak length observed across 5000 simulations was about 0.81 with a standard deviation of 1.21, whereas (looking at Kobe's derived streak-lengths time series) Kobe had a mean streak length of 0.76 with a standard deviaton of 0.99. Kobe's average streak length is not evidently different from that of our simulated \"non-streak-y\" basketball player, and (in terms of standard deviation) a majority of Kobe's variability in streak length lies about as close to the mean as for the simulated player. So this data doesn't support the \"hot hand\" hypothesis, for this dataset."
   ]
  },
  {
   "cell_type": "markdown",
   "metadata": {},
   "source": [
    "#### Take 2.\n",
    "\n",
    "I'm not sure whether running 5000 simulated sequences (of 133 throws each), getting the streak series for each simulation, then 'stacking' all of these outcomes like one variable with thousands of observations is a statistically reasonable procedure.\n",
    "\n",
    "Instead - use these 5000 observations to work out a sort of aggregate \"portrait\" of an average game: that is,\n",
    "\n",
    "1. Do the `value_counts()` for each pd.Series in the list of simulations to be put together, then\n",
    "2. Assemble the data frame that is indexed on the simulation number, where each column corresponds to a streak length & the entry at `df.loc[j, k]` is the number of streaks during simulation #j of length: k\n",
    "3. Get the average value for each column. The resulting pd.Series would be indexed by _streak lengths_, and have _average frequencies_ (non-normalized) for each possible streak length.\n",
    "4. Turn this probability distribution into expected (average) streak length & standard deviation.\n",
    "\n",
    "4 is the part that I need to think about how to do using pandas (unsure how at present.)"
   ]
  },
  {
   "cell_type": "code",
   "execution_count": 23,
   "metadata": {},
   "outputs": [
    {
     "name": "stdout",
     "output_type": "stream",
     "text": [
      "0    38\n",
      "1    23\n",
      "2     4\n",
      "3     3\n",
      "4     2\n",
      "6     1\n",
      "8     1\n",
      "dtype: int64\n",
      "0    28\n",
      "1    15\n",
      "2    14\n",
      "3     5\n",
      "4     1\n",
      "8     1\n",
      "dtype: int64\n"
     ]
    }
   ],
   "source": [
    "# As before, 'sim_streaks_5000' is a list whose j'th entry \n",
    "# sim_streaks_5000[j] is a list of streak lengths, in the order\n",
    "# in which they occurred during simulation #j\n",
    "\n",
    "# Get the value counts for every simulation's derived streaks t-series\n",
    "sim_value_counts_5000 = [\n",
    "    pd.Series(streaks)\n",
    "            .value_counts()\n",
    "            .sort_index()\n",
    "    for streaks in sim_streaks_5000\n",
    "]\n",
    "\n",
    "# check some data\n",
    "print(sim_value_counts_5000[0])\n",
    "print(sim_value_counts_5000[50])"
   ]
  },
  {
   "cell_type": "markdown",
   "metadata": {},
   "source": [
    "What does the index look like for a typical entry in the list `sim_value_counts_5000` (i.e. a typical pd.Series of streak lengths)?"
   ]
  },
  {
   "cell_type": "code",
   "execution_count": 24,
   "metadata": {},
   "outputs": [
    {
     "data": {
      "text/plain": [
       "Int64Index([0, 1, 2, 3, 4, 8], dtype='int64')"
      ]
     },
     "execution_count": 24,
     "metadata": {},
     "output_type": "execute_result"
    }
   ],
   "source": [
    "sim_value_counts_5000[50].index"
   ]
  },
  {
   "cell_type": "markdown",
   "metadata": {},
   "source": [
    "It's precisely the (observed) streak lengths which arose during simulation #j (`j: 50` in the example above.)"
   ]
  },
  {
   "cell_type": "code",
   "execution_count": 25,
   "metadata": {},
   "outputs": [
    {
     "data": {
      "text/html": [
       "<div>\n",
       "<style scoped>\n",
       "    .dataframe tbody tr th:only-of-type {\n",
       "        vertical-align: middle;\n",
       "    }\n",
       "\n",
       "    .dataframe tbody tr th {\n",
       "        vertical-align: top;\n",
       "    }\n",
       "\n",
       "    .dataframe thead th {\n",
       "        text-align: right;\n",
       "    }\n",
       "</style>\n",
       "<table border=\"1\" class=\"dataframe\">\n",
       "  <thead>\n",
       "    <tr style=\"text-align: right;\">\n",
       "      <th></th>\n",
       "      <th>0</th>\n",
       "      <th>1</th>\n",
       "      <th>2</th>\n",
       "      <th>3</th>\n",
       "      <th>4</th>\n",
       "      <th>5</th>\n",
       "      <th>6</th>\n",
       "      <th>7</th>\n",
       "      <th>8</th>\n",
       "      <th>9</th>\n",
       "      <th>10</th>\n",
       "      <th>11</th>\n",
       "      <th>12</th>\n",
       "      <th>13</th>\n",
       "      <th>14</th>\n",
       "      <th>15</th>\n",
       "      <th>16</th>\n",
       "      <th>17</th>\n",
       "    </tr>\n",
       "  </thead>\n",
       "  <tbody>\n",
       "    <tr>\n",
       "      <th>0</th>\n",
       "      <td>38.0</td>\n",
       "      <td>23.0</td>\n",
       "      <td>4.0</td>\n",
       "      <td>3.0</td>\n",
       "      <td>2.0</td>\n",
       "      <td>NaN</td>\n",
       "      <td>1.0</td>\n",
       "      <td>NaN</td>\n",
       "      <td>1.0</td>\n",
       "      <td>NaN</td>\n",
       "      <td>NaN</td>\n",
       "      <td>NaN</td>\n",
       "      <td>NaN</td>\n",
       "      <td>NaN</td>\n",
       "      <td>NaN</td>\n",
       "      <td>NaN</td>\n",
       "      <td>NaN</td>\n",
       "      <td>NaN</td>\n",
       "    </tr>\n",
       "    <tr>\n",
       "      <th>1</th>\n",
       "      <td>50.0</td>\n",
       "      <td>14.0</td>\n",
       "      <td>8.0</td>\n",
       "      <td>2.0</td>\n",
       "      <td>1.0</td>\n",
       "      <td>3.0</td>\n",
       "      <td>NaN</td>\n",
       "      <td>NaN</td>\n",
       "      <td>NaN</td>\n",
       "      <td>NaN</td>\n",
       "      <td>NaN</td>\n",
       "      <td>NaN</td>\n",
       "      <td>NaN</td>\n",
       "      <td>NaN</td>\n",
       "      <td>NaN</td>\n",
       "      <td>NaN</td>\n",
       "      <td>NaN</td>\n",
       "      <td>NaN</td>\n",
       "    </tr>\n",
       "    <tr>\n",
       "      <th>2</th>\n",
       "      <td>43.0</td>\n",
       "      <td>13.0</td>\n",
       "      <td>8.0</td>\n",
       "      <td>4.0</td>\n",
       "      <td>2.0</td>\n",
       "      <td>1.0</td>\n",
       "      <td>NaN</td>\n",
       "      <td>1.0</td>\n",
       "      <td>NaN</td>\n",
       "      <td>NaN</td>\n",
       "      <td>NaN</td>\n",
       "      <td>NaN</td>\n",
       "      <td>NaN</td>\n",
       "      <td>NaN</td>\n",
       "      <td>NaN</td>\n",
       "      <td>NaN</td>\n",
       "      <td>NaN</td>\n",
       "      <td>NaN</td>\n",
       "    </tr>\n",
       "    <tr>\n",
       "      <th>3</th>\n",
       "      <td>23.0</td>\n",
       "      <td>20.0</td>\n",
       "      <td>14.0</td>\n",
       "      <td>6.0</td>\n",
       "      <td>1.0</td>\n",
       "      <td>NaN</td>\n",
       "      <td>NaN</td>\n",
       "      <td>NaN</td>\n",
       "      <td>NaN</td>\n",
       "      <td>NaN</td>\n",
       "      <td>NaN</td>\n",
       "      <td>NaN</td>\n",
       "      <td>NaN</td>\n",
       "      <td>NaN</td>\n",
       "      <td>NaN</td>\n",
       "      <td>NaN</td>\n",
       "      <td>NaN</td>\n",
       "      <td>NaN</td>\n",
       "    </tr>\n",
       "    <tr>\n",
       "      <th>4</th>\n",
       "      <td>34.0</td>\n",
       "      <td>16.0</td>\n",
       "      <td>13.0</td>\n",
       "      <td>3.0</td>\n",
       "      <td>2.0</td>\n",
       "      <td>1.0</td>\n",
       "      <td>NaN</td>\n",
       "      <td>NaN</td>\n",
       "      <td>NaN</td>\n",
       "      <td>NaN</td>\n",
       "      <td>NaN</td>\n",
       "      <td>NaN</td>\n",
       "      <td>NaN</td>\n",
       "      <td>NaN</td>\n",
       "      <td>NaN</td>\n",
       "      <td>NaN</td>\n",
       "      <td>NaN</td>\n",
       "      <td>NaN</td>\n",
       "    </tr>\n",
       "  </tbody>\n",
       "</table>\n",
       "</div>"
      ],
      "text/plain": [
       "     0     1     2    3    4    5    6    7    8   9   10  11  12  13  14  15  \\\n",
       "0  38.0  23.0   4.0  3.0  2.0  NaN  1.0  NaN  1.0 NaN NaN NaN NaN NaN NaN NaN   \n",
       "1  50.0  14.0   8.0  2.0  1.0  3.0  NaN  NaN  NaN NaN NaN NaN NaN NaN NaN NaN   \n",
       "2  43.0  13.0   8.0  4.0  2.0  1.0  NaN  1.0  NaN NaN NaN NaN NaN NaN NaN NaN   \n",
       "3  23.0  20.0  14.0  6.0  1.0  NaN  NaN  NaN  NaN NaN NaN NaN NaN NaN NaN NaN   \n",
       "4  34.0  16.0  13.0  3.0  2.0  1.0  NaN  NaN  NaN NaN NaN NaN NaN NaN NaN NaN   \n",
       "\n",
       "   16  17  \n",
       "0 NaN NaN  \n",
       "1 NaN NaN  \n",
       "2 NaN NaN  \n",
       "3 NaN NaN  \n",
       "4 NaN NaN  "
      ]
     },
     "execution_count": 25,
     "metadata": {},
     "output_type": "execute_result"
    }
   ],
   "source": [
    "# Create the dataframe\n",
    "df_value_counts = pd.DataFrame(sim_value_counts_5000)\n",
    "\n",
    "# Compare first 5 observations in the dataframe\n",
    "df_value_counts.head(5)"
   ]
  },
  {
   "cell_type": "code",
   "execution_count": 26,
   "metadata": {},
   "outputs": [
    {
     "name": "stdout",
     "output_type": "stream",
     "text": [
      "0    38\n",
      "1    23\n",
      "2     4\n",
      "3     3\n",
      "4     2\n",
      "6     1\n",
      "8     1\n",
      "dtype: int64\n",
      "0    50\n",
      "1    14\n",
      "2     8\n",
      "3     2\n",
      "4     1\n",
      "5     3\n",
      "dtype: int64\n",
      "0    43\n",
      "1    13\n",
      "2     8\n",
      "3     4\n",
      "4     2\n",
      "5     1\n",
      "7     1\n",
      "dtype: int64\n",
      "0    23\n",
      "1    20\n",
      "2    14\n",
      "3     6\n",
      "4     1\n",
      "dtype: int64\n",
      "0    34\n",
      "1    16\n",
      "2    13\n",
      "3     3\n",
      "4     2\n",
      "5     1\n",
      "dtype: int64\n"
     ]
    }
   ],
   "source": [
    "# vs. the first 5 pd.Series in 'sim_value_counts_5000'\n",
    "for srs in sim_value_counts_5000[:5]:\n",
    "    print(srs)"
   ]
  },
  {
   "cell_type": "markdown",
   "metadata": {},
   "source": [
    "(For each observation, any streak length in the superset of all pd.Series indices which did _not_ arise for that observation simply get 'NaN'. It would be appropriate in this setting to just fill these in with 0's, because precisely 0 instances of that streak length arose in this context.)"
   ]
  },
  {
   "cell_type": "code",
   "execution_count": 27,
   "metadata": {},
   "outputs": [
    {
     "data": {
      "text/html": [
       "<div>\n",
       "<style scoped>\n",
       "    .dataframe tbody tr th:only-of-type {\n",
       "        vertical-align: middle;\n",
       "    }\n",
       "\n",
       "    .dataframe tbody tr th {\n",
       "        vertical-align: top;\n",
       "    }\n",
       "\n",
       "    .dataframe thead th {\n",
       "        text-align: right;\n",
       "    }\n",
       "</style>\n",
       "<table border=\"1\" class=\"dataframe\">\n",
       "  <thead>\n",
       "    <tr style=\"text-align: right;\">\n",
       "      <th></th>\n",
       "      <th>0</th>\n",
       "      <th>1</th>\n",
       "      <th>2</th>\n",
       "      <th>3</th>\n",
       "      <th>4</th>\n",
       "      <th>5</th>\n",
       "      <th>6</th>\n",
       "      <th>7</th>\n",
       "      <th>8</th>\n",
       "      <th>9</th>\n",
       "      <th>10</th>\n",
       "      <th>11</th>\n",
       "      <th>12</th>\n",
       "      <th>13</th>\n",
       "      <th>14</th>\n",
       "      <th>15</th>\n",
       "      <th>16</th>\n",
       "      <th>17</th>\n",
       "    </tr>\n",
       "  </thead>\n",
       "  <tbody>\n",
       "    <tr>\n",
       "      <th>0</th>\n",
       "      <td>38.0</td>\n",
       "      <td>23.0</td>\n",
       "      <td>4.0</td>\n",
       "      <td>3.0</td>\n",
       "      <td>2.0</td>\n",
       "      <td>0.0</td>\n",
       "      <td>1.0</td>\n",
       "      <td>0.0</td>\n",
       "      <td>1.0</td>\n",
       "      <td>0.0</td>\n",
       "      <td>0.0</td>\n",
       "      <td>0.0</td>\n",
       "      <td>0.0</td>\n",
       "      <td>0.0</td>\n",
       "      <td>0.0</td>\n",
       "      <td>0.0</td>\n",
       "      <td>0.0</td>\n",
       "      <td>0.0</td>\n",
       "    </tr>\n",
       "    <tr>\n",
       "      <th>1</th>\n",
       "      <td>50.0</td>\n",
       "      <td>14.0</td>\n",
       "      <td>8.0</td>\n",
       "      <td>2.0</td>\n",
       "      <td>1.0</td>\n",
       "      <td>3.0</td>\n",
       "      <td>0.0</td>\n",
       "      <td>0.0</td>\n",
       "      <td>0.0</td>\n",
       "      <td>0.0</td>\n",
       "      <td>0.0</td>\n",
       "      <td>0.0</td>\n",
       "      <td>0.0</td>\n",
       "      <td>0.0</td>\n",
       "      <td>0.0</td>\n",
       "      <td>0.0</td>\n",
       "      <td>0.0</td>\n",
       "      <td>0.0</td>\n",
       "    </tr>\n",
       "    <tr>\n",
       "      <th>2</th>\n",
       "      <td>43.0</td>\n",
       "      <td>13.0</td>\n",
       "      <td>8.0</td>\n",
       "      <td>4.0</td>\n",
       "      <td>2.0</td>\n",
       "      <td>1.0</td>\n",
       "      <td>0.0</td>\n",
       "      <td>1.0</td>\n",
       "      <td>0.0</td>\n",
       "      <td>0.0</td>\n",
       "      <td>0.0</td>\n",
       "      <td>0.0</td>\n",
       "      <td>0.0</td>\n",
       "      <td>0.0</td>\n",
       "      <td>0.0</td>\n",
       "      <td>0.0</td>\n",
       "      <td>0.0</td>\n",
       "      <td>0.0</td>\n",
       "    </tr>\n",
       "    <tr>\n",
       "      <th>3</th>\n",
       "      <td>23.0</td>\n",
       "      <td>20.0</td>\n",
       "      <td>14.0</td>\n",
       "      <td>6.0</td>\n",
       "      <td>1.0</td>\n",
       "      <td>0.0</td>\n",
       "      <td>0.0</td>\n",
       "      <td>0.0</td>\n",
       "      <td>0.0</td>\n",
       "      <td>0.0</td>\n",
       "      <td>0.0</td>\n",
       "      <td>0.0</td>\n",
       "      <td>0.0</td>\n",
       "      <td>0.0</td>\n",
       "      <td>0.0</td>\n",
       "      <td>0.0</td>\n",
       "      <td>0.0</td>\n",
       "      <td>0.0</td>\n",
       "    </tr>\n",
       "    <tr>\n",
       "      <th>4</th>\n",
       "      <td>34.0</td>\n",
       "      <td>16.0</td>\n",
       "      <td>13.0</td>\n",
       "      <td>3.0</td>\n",
       "      <td>2.0</td>\n",
       "      <td>1.0</td>\n",
       "      <td>0.0</td>\n",
       "      <td>0.0</td>\n",
       "      <td>0.0</td>\n",
       "      <td>0.0</td>\n",
       "      <td>0.0</td>\n",
       "      <td>0.0</td>\n",
       "      <td>0.0</td>\n",
       "      <td>0.0</td>\n",
       "      <td>0.0</td>\n",
       "      <td>0.0</td>\n",
       "      <td>0.0</td>\n",
       "      <td>0.0</td>\n",
       "    </tr>\n",
       "  </tbody>\n",
       "</table>\n",
       "</div>"
      ],
      "text/plain": [
       "     0     1     2    3    4    5    6    7    8    9    10   11   12   13  \\\n",
       "0  38.0  23.0   4.0  3.0  2.0  0.0  1.0  0.0  1.0  0.0  0.0  0.0  0.0  0.0   \n",
       "1  50.0  14.0   8.0  2.0  1.0  3.0  0.0  0.0  0.0  0.0  0.0  0.0  0.0  0.0   \n",
       "2  43.0  13.0   8.0  4.0  2.0  1.0  0.0  1.0  0.0  0.0  0.0  0.0  0.0  0.0   \n",
       "3  23.0  20.0  14.0  6.0  1.0  0.0  0.0  0.0  0.0  0.0  0.0  0.0  0.0  0.0   \n",
       "4  34.0  16.0  13.0  3.0  2.0  1.0  0.0  0.0  0.0  0.0  0.0  0.0  0.0  0.0   \n",
       "\n",
       "    14   15   16   17  \n",
       "0  0.0  0.0  0.0  0.0  \n",
       "1  0.0  0.0  0.0  0.0  \n",
       "2  0.0  0.0  0.0  0.0  \n",
       "3  0.0  0.0  0.0  0.0  \n",
       "4  0.0  0.0  0.0  0.0  "
      ]
     },
     "execution_count": 27,
     "metadata": {},
     "output_type": "execute_result"
    }
   ],
   "source": [
    "df_value_counts.fillna(0.0, inplace=True)\n",
    "df_value_counts.head(5)"
   ]
  },
  {
   "cell_type": "markdown",
   "metadata": {},
   "source": [
    "Now, for instance, we can find out what the _average number of occurrences_ for length-4 streaks was, for our round of 5000 simulations:"
   ]
  },
  {
   "cell_type": "code",
   "execution_count": 28,
   "metadata": {},
   "outputs": [
    {
     "data": {
      "text/plain": [
       "1.645"
      ]
     },
     "execution_count": 28,
     "metadata": {},
     "output_type": "execute_result"
    }
   ],
   "source": [
    "df_value_counts[4].mean()"
   ]
  },
  {
   "cell_type": "code",
   "execution_count": 29,
   "metadata": {},
   "outputs": [
    {
     "name": "stdout",
     "output_type": "stream",
     "text": [
      "0     40.5992\n",
      "1     18.3790\n",
      "2      8.1620\n",
      "3      3.6264\n",
      "4      1.6450\n",
      "5      0.7096\n",
      "6      0.3156\n",
      "7      0.1492\n",
      "8      0.0684\n",
      "9      0.0292\n",
      "10     0.0154\n",
      "11     0.0062\n",
      "12     0.0026\n",
      "13     0.0012\n",
      "14     0.0004\n",
      "15     0.0002\n",
      "16     0.0002\n",
      "17     0.0002\n",
      "dtype: float64\n",
      "<class 'pandas.core.series.Series'>\n"
     ]
    }
   ],
   "source": [
    "# Proceed to do so for *all* streak lengths\n",
    "val_count_means = df_value_counts.mean()\n",
    "print(val_count_means)\n",
    "\n",
    "# Note that this is a pd.Series\n",
    "print(type(val_count_means))"
   ]
  },
  {
   "cell_type": "markdown",
   "metadata": {},
   "source": [
    "Conceptually, then, we have transformed our original simulated dataset of 5000 \"games\" (each game = an array of 133 attempted throws, with probability for each to land being totally independent of all other throws) into a simulated \"average game\"'s value counts (i.e. for each streak length, the number of times that it arises _on average._) \n",
    "\n",
    "However, we **don't** want the mean / standard deviation of these numbers! Instead, we want the mean / standard deviation of the variable that would result if each row's value were _weighted by its index_. This is because we want to \"unpack\" this average-game value-counts series into the \"average game\" itself."
   ]
  },
  {
   "cell_type": "code",
   "execution_count": 30,
   "metadata": {},
   "outputs": [
    {
     "name": "stdout",
     "output_type": "stream",
     "text": [
      "      count  streak_length\n",
      "0   40.5992              0\n",
      "1   18.3790              1\n",
      "2    8.1620              2\n",
      "3    3.6264              3\n",
      "4    1.6450              4\n",
      "5    0.7096              5\n",
      "6    0.3156              6\n",
      "7    0.1492              7\n",
      "8    0.0684              8\n",
      "9    0.0292              9\n",
      "10   0.0154             10\n",
      "11   0.0062             11\n",
      "12   0.0026             12\n",
      "13   0.0012             13\n",
      "14   0.0004             14\n",
      "15   0.0002             15\n",
      "16   0.0002             16\n",
      "17   0.0002             17\n"
     ]
    }
   ],
   "source": [
    "df_val_count_means = val_count_means.to_frame(name='count')\n",
    "# For convenience, we'll add a column that is essentially\n",
    "# a copy of the index, but imbued with mathematical relevance\n",
    "df_val_count_means['streak_length'] = df_val_count_means.index.to_series()\n",
    "print(df_val_count_means)"
   ]
  },
  {
   "cell_type": "markdown",
   "metadata": {},
   "source": [
    "Now create a new series to represent the \"ensemble\" of streak lengths observed in our composite \"average simulation\" (order is irrelevant for our purposes.)"
   ]
  },
  {
   "cell_type": "code",
   "execution_count": 31,
   "metadata": {},
   "outputs": [
    {
     "data": {
      "text/plain": [
       "0     0.0000\n",
       "1     0.0000\n",
       "2     0.0000\n",
       "3     0.0000\n",
       "4     0.0000\n",
       "       ...  \n",
       "83    0.0156\n",
       "84    0.0056\n",
       "85    0.0030\n",
       "86    0.0032\n",
       "87    0.0034\n",
       "Length: 88, dtype: float64"
      ]
     },
     "execution_count": 31,
     "metadata": {},
     "output_type": "execute_result"
    }
   ],
   "source": [
    "from math import modf\n",
    "\n",
    "# this is a sort of peculiar approximation to 'unpacking value counts\n",
    "# back into a list of streaks', which deals with the fact that I cannot\n",
    "# actually create e.g. 'a sublist consisting of 3.7108 length-3 streaks.'\n",
    "# row[0]: 'count'; modf(row[0])[1] is the integral part,\n",
    "#                  modf(row[0])[0] is the fractional part which I multiply\n",
    "#                                  by row[1]: 'streak_length' and add as an extra entry\n",
    "avg_sim_streaks = pd.concat(\n",
    "    [pd.Series(  [row[1]] * int(modf(row[0])[1]) \n",
    "               + [row[1] * modf(row[0])[0]]\n",
    "               , dtype='float64')  \n",
    "         for row \n",
    "         in df_val_count_means.itertuples(index=False)],\n",
    "    ignore_index=True)\n",
    "\n",
    "avg_sim_streaks"
   ]
  },
  {
   "cell_type": "code",
   "execution_count": 32,
   "metadata": {},
   "outputs": [
    {
     "data": {
      "text/plain": [
       "count    88.000000\n",
       "mean      0.678891\n",
       "std       0.962162\n",
       "min       0.000000\n",
       "25%       0.000000\n",
       "50%       0.004500\n",
       "75%       1.000000\n",
       "max       4.000000\n",
       "dtype: float64"
      ]
     },
     "execution_count": 32,
     "metadata": {},
     "output_type": "execute_result"
    }
   ],
   "source": [
    "# Now get the summary statistics of this \"reconstructed average-game streaks t-series\"\n",
    "avg_sim_streaks.describe()"
   ]
  },
  {
   "cell_type": "code",
   "execution_count": 33,
   "metadata": {},
   "outputs": [
    {
     "data": {
      "text/plain": [
       "count    76.000000\n",
       "mean      0.763158\n",
       "std       0.991543\n",
       "min       0.000000\n",
       "25%       0.000000\n",
       "50%       0.000000\n",
       "75%       1.000000\n",
       "max       4.000000\n",
       "dtype: float64"
      ]
     },
     "execution_count": 33,
     "metadata": {},
     "output_type": "execute_result"
    }
   ],
   "source": [
    "kobe_streaks.describe()"
   ]
  },
  {
   "cell_type": "markdown",
   "metadata": {},
   "source": [
    "Under this analysis, which works with a time series much closer to a reconstructed \"typical game of basketball\", Kobe's performance looks _even closer_ to that of a simulated player without hot hands!"
   ]
  },
  {
   "cell_type": "markdown",
   "metadata": {},
   "source": [
    "#### Take 3.\n",
    "\n",
    "The approach of \"unpacking a value-counts pd.Series back into a typical average game\" (up to permutation in the streak order) is still somewhat clumsy. Instead, just _directly reinterpret `df_val_count_means` into a dictionary_ and then write a Python function that will interpret this as a discrete probability distribution."
   ]
  },
  {
   "cell_type": "code",
   "execution_count": 35,
   "metadata": {},
   "outputs": [
    {
     "name": "stdout",
     "output_type": "stream",
     "text": [
      "The mean streak length is: 0.8105060371727035\n",
      "The streak length variance is: 1.462732656692626\n",
      "The streak length standard deviation is: 1.2094348501232408\n"
     ]
    }
   ],
   "source": [
    "# Normalize counts to get probabilities\n",
    "df_probs = df_val_count_means.copy()\n",
    "df_probs['count'] = df_probs['count'] / df_probs['count'].sum()\n",
    "df_probs.rename(columns={\"count\":\"prob\"}, inplace=True)\n",
    "\n",
    "streak_len_prob_dist = [dict(zip(['j', 'P(X_j)', 'X_j'],\n",
    "                                 list(row)))\n",
    "                        for row in df_probs.itertuples()]\n",
    "\n",
    "# Define functions to compute mean and std dev\n",
    "def get_pdist_mean(prob_dist):\n",
    "    '''\n",
    "    Given a discrete probability distribution represented as a \n",
    "    list of dictionaries, return the mean (a.k.a. expected value) \n",
    "    of the distribution.\n",
    "    '''\n",
    "    return sum(d['P(X_j)'] * d['X_j'] for d in prob_dist)\n",
    "\n",
    "streak_len_mean = get_pdist_mean(streak_len_prob_dist)\n",
    "print(\"The mean streak length is:\", streak_len_mean)\n",
    "\n",
    "def get_pdist_var(prob_dist):\n",
    "    '''\n",
    "    Given a discrete probability distribution represented as a \n",
    "    list of dictionaries, return the variance of the distribution.\n",
    "    '''\n",
    "    pd_mean = get_pdist_mean(prob_dist)\n",
    "    weight_sq_devs = [(d['X_j'] - pd_mean)**2 * d['P(X_j)']\n",
    "                      for d in prob_dist]\n",
    "    return sum(weight_sq_devs)\n",
    "\n",
    "streak_len_var = get_pdist_var(streak_len_prob_dist)\n",
    "print(\"The streak length variance is:\", streak_len_var)\n",
    "\n",
    "def get_pdist_std_dev(prob_dist):\n",
    "    '''\n",
    "    Given a discrete probability distribution represented as a \n",
    "    list of dictionaries, return the standard deviation of the \n",
    "    distribution.\n",
    "    '''\n",
    "    from math import sqrt\n",
    "    pdist_var = get_pdist_var(prob_dist)\n",
    "    return sqrt(pdist_var)\n",
    "\n",
    "streak_len_stdev = get_pdist_std_dev(streak_len_prob_dist)\n",
    "print(\"The streak length standard deviation is:\", streak_len_stdev)"
   ]
  },
  {
   "cell_type": "markdown",
   "metadata": {},
   "source": [
    "This gives a slightly different result from the approach used in Take 2, but I am inclined to view this one as more accurate."
   ]
  },
  {
   "cell_type": "markdown",
   "metadata": {},
   "source": [
    "<div class = \"license\">\n",
    "This lab was adapted by Vural Aksakalli and Imran Ture from OpenIntro by Andrew Bray and Mine Çetinkaya-Rundel.\n",
    "</div>"
   ]
  },
  {
   "cell_type": "markdown",
   "metadata": {},
   "source": [
    "***\n",
    "www.featureranking.com"
   ]
  }
 ],
 "metadata": {
  "kernelspec": {
   "display_name": "Python 3",
   "language": "python",
   "name": "python3"
  },
  "language_info": {
   "codemirror_mode": {
    "name": "ipython",
    "version": 3
   },
   "file_extension": ".py",
   "mimetype": "text/x-python",
   "name": "python",
   "nbconvert_exporter": "python",
   "pygments_lexer": "ipython3",
   "version": "3.8.3"
  }
 },
 "nbformat": 4,
 "nbformat_minor": 4
}
